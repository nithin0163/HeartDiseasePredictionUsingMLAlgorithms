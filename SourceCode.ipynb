{
 "cells": [
  {
   "cell_type": "code",
   "execution_count": 1,
   "id": "f950f743",
   "metadata": {
    "id": "f950f743"
   },
   "outputs": [],
   "source": [
    "import pandas as pd\n",
    "import numpy as np\n",
    "import matplotlib.pyplot as plt\n",
    "import seaborn as sns\n",
    "from sklearn.model_selection import train_test_split"
   ]
  },
  {
   "cell_type": "code",
   "execution_count": 2,
   "id": "7dca4552",
   "metadata": {
    "id": "7dca4552"
   },
   "outputs": [],
   "source": [
    "from sklearn.linear_model import LogisticRegression\n",
    "from sklearn.naive_bayes import GaussianNB\n",
    "from sklearn.tree import DecisionTreeClassifier\n",
    "from sklearn.ensemble import RandomForestClassifier\n",
    "from sklearn.ensemble import GradientBoostingClassifier"
   ]
  },
  {
   "cell_type": "code",
   "execution_count": 3,
   "id": "fd767b0c",
   "metadata": {
    "id": "fd767b0c"
   },
   "outputs": [],
   "source": [
    "from sklearn.model_selection import train_test_split\n",
    "from sklearn.model_selection import GridSearchCV\n",
    "from sklearn.preprocessing import MinMaxScaler\n",
    "from sklearn.preprocessing import StandardScaler\n",
    "#import scikitplot as skplt\n",
    "from sklearn import metrics\n",
    "from sklearn.metrics import confusion_matrix\n",
    "from sklearn.metrics import accuracy_score\n",
    "from sklearn.metrics import precision_score\n",
    "from sklearn.metrics import recall_score \n",
    "from sklearn.metrics import f1_score "
   ]
  },
  {
   "cell_type": "code",
   "execution_count": 4,
   "id": "f8cf49cb",
   "metadata": {
    "id": "f8cf49cb"
   },
   "outputs": [],
   "source": [
    "#DecisionTreeClassifier?"
   ]
  },
  {
   "cell_type": "code",
   "execution_count": 5,
   "id": "c82900a2",
   "metadata": {
    "id": "c82900a2"
   },
   "outputs": [],
   "source": [
    "#RandomForestClassifier?"
   ]
  },
  {
   "cell_type": "code",
   "execution_count": 6,
   "id": "7558d064",
   "metadata": {
    "colab": {
     "base_uri": "https://localhost:8080/",
     "height": 423
    },
    "id": "7558d064",
    "outputId": "578f6ead-0f1a-4247-e963-c89d05ddc7ca"
   },
   "outputs": [
    {
     "data": {
      "text/html": [
       "<div>\n",
       "<style scoped>\n",
       "    .dataframe tbody tr th:only-of-type {\n",
       "        vertical-align: middle;\n",
       "    }\n",
       "\n",
       "    .dataframe tbody tr th {\n",
       "        vertical-align: top;\n",
       "    }\n",
       "\n",
       "    .dataframe thead th {\n",
       "        text-align: right;\n",
       "    }\n",
       "</style>\n",
       "<table border=\"1\" class=\"dataframe\">\n",
       "  <thead>\n",
       "    <tr style=\"text-align: right;\">\n",
       "      <th></th>\n",
       "      <th>0</th>\n",
       "      <th>1</th>\n",
       "      <th>2</th>\n",
       "      <th>3</th>\n",
       "      <th>4</th>\n",
       "      <th>5</th>\n",
       "      <th>6</th>\n",
       "      <th>7</th>\n",
       "      <th>8</th>\n",
       "      <th>9</th>\n",
       "      <th>10</th>\n",
       "      <th>11</th>\n",
       "      <th>12</th>\n",
       "      <th>13</th>\n",
       "    </tr>\n",
       "  </thead>\n",
       "  <tbody>\n",
       "    <tr>\n",
       "      <th>0</th>\n",
       "      <td>63</td>\n",
       "      <td>1</td>\n",
       "      <td>1</td>\n",
       "      <td>145</td>\n",
       "      <td>233</td>\n",
       "      <td>1</td>\n",
       "      <td>2</td>\n",
       "      <td>150</td>\n",
       "      <td>0</td>\n",
       "      <td>2.3</td>\n",
       "      <td>3</td>\n",
       "      <td>0</td>\n",
       "      <td>6</td>\n",
       "      <td>0</td>\n",
       "    </tr>\n",
       "    <tr>\n",
       "      <th>1</th>\n",
       "      <td>67</td>\n",
       "      <td>1</td>\n",
       "      <td>4</td>\n",
       "      <td>160</td>\n",
       "      <td>286</td>\n",
       "      <td>0</td>\n",
       "      <td>2</td>\n",
       "      <td>108</td>\n",
       "      <td>1</td>\n",
       "      <td>1.5</td>\n",
       "      <td>2</td>\n",
       "      <td>3</td>\n",
       "      <td>3</td>\n",
       "      <td>2</td>\n",
       "    </tr>\n",
       "    <tr>\n",
       "      <th>2</th>\n",
       "      <td>67</td>\n",
       "      <td>1</td>\n",
       "      <td>4</td>\n",
       "      <td>120</td>\n",
       "      <td>229</td>\n",
       "      <td>0</td>\n",
       "      <td>2</td>\n",
       "      <td>129</td>\n",
       "      <td>1</td>\n",
       "      <td>2.6</td>\n",
       "      <td>2</td>\n",
       "      <td>2</td>\n",
       "      <td>7</td>\n",
       "      <td>1</td>\n",
       "    </tr>\n",
       "    <tr>\n",
       "      <th>3</th>\n",
       "      <td>37</td>\n",
       "      <td>1</td>\n",
       "      <td>3</td>\n",
       "      <td>130</td>\n",
       "      <td>250</td>\n",
       "      <td>0</td>\n",
       "      <td>0</td>\n",
       "      <td>187</td>\n",
       "      <td>0</td>\n",
       "      <td>3.5</td>\n",
       "      <td>3</td>\n",
       "      <td>0</td>\n",
       "      <td>3</td>\n",
       "      <td>0</td>\n",
       "    </tr>\n",
       "    <tr>\n",
       "      <th>4</th>\n",
       "      <td>41</td>\n",
       "      <td>0</td>\n",
       "      <td>2</td>\n",
       "      <td>130</td>\n",
       "      <td>204</td>\n",
       "      <td>0</td>\n",
       "      <td>2</td>\n",
       "      <td>172</td>\n",
       "      <td>0</td>\n",
       "      <td>1.4</td>\n",
       "      <td>1</td>\n",
       "      <td>0</td>\n",
       "      <td>3</td>\n",
       "      <td>0</td>\n",
       "    </tr>\n",
       "    <tr>\n",
       "      <th>...</th>\n",
       "      <td>...</td>\n",
       "      <td>...</td>\n",
       "      <td>...</td>\n",
       "      <td>...</td>\n",
       "      <td>...</td>\n",
       "      <td>...</td>\n",
       "      <td>...</td>\n",
       "      <td>...</td>\n",
       "      <td>...</td>\n",
       "      <td>...</td>\n",
       "      <td>...</td>\n",
       "      <td>...</td>\n",
       "      <td>...</td>\n",
       "      <td>...</td>\n",
       "    </tr>\n",
       "    <tr>\n",
       "      <th>298</th>\n",
       "      <td>45</td>\n",
       "      <td>1</td>\n",
       "      <td>1</td>\n",
       "      <td>110</td>\n",
       "      <td>264</td>\n",
       "      <td>0</td>\n",
       "      <td>0</td>\n",
       "      <td>132</td>\n",
       "      <td>0</td>\n",
       "      <td>1.2</td>\n",
       "      <td>2</td>\n",
       "      <td>0</td>\n",
       "      <td>7</td>\n",
       "      <td>1</td>\n",
       "    </tr>\n",
       "    <tr>\n",
       "      <th>299</th>\n",
       "      <td>68</td>\n",
       "      <td>1</td>\n",
       "      <td>4</td>\n",
       "      <td>144</td>\n",
       "      <td>193</td>\n",
       "      <td>1</td>\n",
       "      <td>0</td>\n",
       "      <td>141</td>\n",
       "      <td>0</td>\n",
       "      <td>3.4</td>\n",
       "      <td>2</td>\n",
       "      <td>2</td>\n",
       "      <td>7</td>\n",
       "      <td>2</td>\n",
       "    </tr>\n",
       "    <tr>\n",
       "      <th>300</th>\n",
       "      <td>57</td>\n",
       "      <td>1</td>\n",
       "      <td>4</td>\n",
       "      <td>130</td>\n",
       "      <td>131</td>\n",
       "      <td>0</td>\n",
       "      <td>0</td>\n",
       "      <td>115</td>\n",
       "      <td>1</td>\n",
       "      <td>1.2</td>\n",
       "      <td>2</td>\n",
       "      <td>1</td>\n",
       "      <td>7</td>\n",
       "      <td>3</td>\n",
       "    </tr>\n",
       "    <tr>\n",
       "      <th>301</th>\n",
       "      <td>57</td>\n",
       "      <td>0</td>\n",
       "      <td>2</td>\n",
       "      <td>130</td>\n",
       "      <td>236</td>\n",
       "      <td>0</td>\n",
       "      <td>2</td>\n",
       "      <td>174</td>\n",
       "      <td>0</td>\n",
       "      <td>0.0</td>\n",
       "      <td>2</td>\n",
       "      <td>1</td>\n",
       "      <td>3</td>\n",
       "      <td>1</td>\n",
       "    </tr>\n",
       "    <tr>\n",
       "      <th>302</th>\n",
       "      <td>38</td>\n",
       "      <td>1</td>\n",
       "      <td>3</td>\n",
       "      <td>138</td>\n",
       "      <td>175</td>\n",
       "      <td>0</td>\n",
       "      <td>0</td>\n",
       "      <td>173</td>\n",
       "      <td>0</td>\n",
       "      <td>0.0</td>\n",
       "      <td>1</td>\n",
       "      <td>?</td>\n",
       "      <td>3</td>\n",
       "      <td>0</td>\n",
       "    </tr>\n",
       "  </tbody>\n",
       "</table>\n",
       "<p>303 rows × 14 columns</p>\n",
       "</div>"
      ],
      "text/plain": [
       "     0   1   2    3    4   5   6    7   8    9   10 11 12  13\n",
       "0    63   1   1  145  233   1   2  150   0  2.3   3  0  6   0\n",
       "1    67   1   4  160  286   0   2  108   1  1.5   2  3  3   2\n",
       "2    67   1   4  120  229   0   2  129   1  2.6   2  2  7   1\n",
       "3    37   1   3  130  250   0   0  187   0  3.5   3  0  3   0\n",
       "4    41   0   2  130  204   0   2  172   0  1.4   1  0  3   0\n",
       "..   ..  ..  ..  ...  ...  ..  ..  ...  ..  ...  .. .. ..  ..\n",
       "298  45   1   1  110  264   0   0  132   0  1.2   2  0  7   1\n",
       "299  68   1   4  144  193   1   0  141   0  3.4   2  2  7   2\n",
       "300  57   1   4  130  131   0   0  115   1  1.2   2  1  7   3\n",
       "301  57   0   2  130  236   0   2  174   0  0.0   2  1  3   1\n",
       "302  38   1   3  138  175   0   0  173   0  0.0   1  ?  3   0\n",
       "\n",
       "[303 rows x 14 columns]"
      ]
     },
     "execution_count": 6,
     "metadata": {},
     "output_type": "execute_result"
    }
   ],
   "source": [
    "df=pd.read_csv(\"heart_csv.csv\",header=None)\n",
    "df"
   ]
  },
  {
   "cell_type": "markdown",
   "id": "f6af933b",
   "metadata": {
    "id": "f6af933b"
   },
   "source": [
    "#data cleaning and preprocessing "
   ]
  },
  {
   "cell_type": "code",
   "execution_count": 7,
   "id": "8fe1d7a0",
   "metadata": {
    "id": "8fe1d7a0"
   },
   "outputs": [],
   "source": [
    "df.rename(columns\n",
    "={0:'Age',1:'Sex',2:'Chest_pain',3:'Resting_blood_pressure',4:'Cholesterol',5:'Fasting_blood_sugar',6:'ECG_results',7:'Maximum_heart_rate',8:'Exercise_induced_angina',9:'ST_depression',10:'ST_slope',11:'Major_vessels',\n",
    "12:'Thalassemia_types',13:'Heart_attack'}, inplace = True)"
   ]
  },
  {
   "cell_type": "code",
   "execution_count": 8,
   "id": "2cb5c49b",
   "metadata": {
    "colab": {
     "base_uri": "https://localhost:8080/",
     "height": 487
    },
    "id": "2cb5c49b",
    "outputId": "6ca711c0-4da1-4b77-889a-97141aede96c"
   },
   "outputs": [
    {
     "data": {
      "text/html": [
       "<div>\n",
       "<style scoped>\n",
       "    .dataframe tbody tr th:only-of-type {\n",
       "        vertical-align: middle;\n",
       "    }\n",
       "\n",
       "    .dataframe tbody tr th {\n",
       "        vertical-align: top;\n",
       "    }\n",
       "\n",
       "    .dataframe thead th {\n",
       "        text-align: right;\n",
       "    }\n",
       "</style>\n",
       "<table border=\"1\" class=\"dataframe\">\n",
       "  <thead>\n",
       "    <tr style=\"text-align: right;\">\n",
       "      <th></th>\n",
       "      <th>Age</th>\n",
       "      <th>Sex</th>\n",
       "      <th>Chest_pain</th>\n",
       "      <th>Resting_blood_pressure</th>\n",
       "      <th>Cholesterol</th>\n",
       "      <th>Fasting_blood_sugar</th>\n",
       "      <th>ECG_results</th>\n",
       "      <th>Maximum_heart_rate</th>\n",
       "      <th>Exercise_induced_angina</th>\n",
       "      <th>ST_depression</th>\n",
       "      <th>ST_slope</th>\n",
       "      <th>Major_vessels</th>\n",
       "      <th>Thalassemia_types</th>\n",
       "      <th>Heart_attack</th>\n",
       "    </tr>\n",
       "  </thead>\n",
       "  <tbody>\n",
       "    <tr>\n",
       "      <th>0</th>\n",
       "      <td>63</td>\n",
       "      <td>1</td>\n",
       "      <td>1</td>\n",
       "      <td>145</td>\n",
       "      <td>233</td>\n",
       "      <td>1</td>\n",
       "      <td>2</td>\n",
       "      <td>150</td>\n",
       "      <td>0</td>\n",
       "      <td>2.3</td>\n",
       "      <td>3</td>\n",
       "      <td>0</td>\n",
       "      <td>6</td>\n",
       "      <td>0</td>\n",
       "    </tr>\n",
       "    <tr>\n",
       "      <th>1</th>\n",
       "      <td>67</td>\n",
       "      <td>1</td>\n",
       "      <td>4</td>\n",
       "      <td>160</td>\n",
       "      <td>286</td>\n",
       "      <td>0</td>\n",
       "      <td>2</td>\n",
       "      <td>108</td>\n",
       "      <td>1</td>\n",
       "      <td>1.5</td>\n",
       "      <td>2</td>\n",
       "      <td>3</td>\n",
       "      <td>3</td>\n",
       "      <td>2</td>\n",
       "    </tr>\n",
       "    <tr>\n",
       "      <th>2</th>\n",
       "      <td>67</td>\n",
       "      <td>1</td>\n",
       "      <td>4</td>\n",
       "      <td>120</td>\n",
       "      <td>229</td>\n",
       "      <td>0</td>\n",
       "      <td>2</td>\n",
       "      <td>129</td>\n",
       "      <td>1</td>\n",
       "      <td>2.6</td>\n",
       "      <td>2</td>\n",
       "      <td>2</td>\n",
       "      <td>7</td>\n",
       "      <td>1</td>\n",
       "    </tr>\n",
       "    <tr>\n",
       "      <th>3</th>\n",
       "      <td>37</td>\n",
       "      <td>1</td>\n",
       "      <td>3</td>\n",
       "      <td>130</td>\n",
       "      <td>250</td>\n",
       "      <td>0</td>\n",
       "      <td>0</td>\n",
       "      <td>187</td>\n",
       "      <td>0</td>\n",
       "      <td>3.5</td>\n",
       "      <td>3</td>\n",
       "      <td>0</td>\n",
       "      <td>3</td>\n",
       "      <td>0</td>\n",
       "    </tr>\n",
       "    <tr>\n",
       "      <th>4</th>\n",
       "      <td>41</td>\n",
       "      <td>0</td>\n",
       "      <td>2</td>\n",
       "      <td>130</td>\n",
       "      <td>204</td>\n",
       "      <td>0</td>\n",
       "      <td>2</td>\n",
       "      <td>172</td>\n",
       "      <td>0</td>\n",
       "      <td>1.4</td>\n",
       "      <td>1</td>\n",
       "      <td>0</td>\n",
       "      <td>3</td>\n",
       "      <td>0</td>\n",
       "    </tr>\n",
       "    <tr>\n",
       "      <th>...</th>\n",
       "      <td>...</td>\n",
       "      <td>...</td>\n",
       "      <td>...</td>\n",
       "      <td>...</td>\n",
       "      <td>...</td>\n",
       "      <td>...</td>\n",
       "      <td>...</td>\n",
       "      <td>...</td>\n",
       "      <td>...</td>\n",
       "      <td>...</td>\n",
       "      <td>...</td>\n",
       "      <td>...</td>\n",
       "      <td>...</td>\n",
       "      <td>...</td>\n",
       "    </tr>\n",
       "    <tr>\n",
       "      <th>298</th>\n",
       "      <td>45</td>\n",
       "      <td>1</td>\n",
       "      <td>1</td>\n",
       "      <td>110</td>\n",
       "      <td>264</td>\n",
       "      <td>0</td>\n",
       "      <td>0</td>\n",
       "      <td>132</td>\n",
       "      <td>0</td>\n",
       "      <td>1.2</td>\n",
       "      <td>2</td>\n",
       "      <td>0</td>\n",
       "      <td>7</td>\n",
       "      <td>1</td>\n",
       "    </tr>\n",
       "    <tr>\n",
       "      <th>299</th>\n",
       "      <td>68</td>\n",
       "      <td>1</td>\n",
       "      <td>4</td>\n",
       "      <td>144</td>\n",
       "      <td>193</td>\n",
       "      <td>1</td>\n",
       "      <td>0</td>\n",
       "      <td>141</td>\n",
       "      <td>0</td>\n",
       "      <td>3.4</td>\n",
       "      <td>2</td>\n",
       "      <td>2</td>\n",
       "      <td>7</td>\n",
       "      <td>2</td>\n",
       "    </tr>\n",
       "    <tr>\n",
       "      <th>300</th>\n",
       "      <td>57</td>\n",
       "      <td>1</td>\n",
       "      <td>4</td>\n",
       "      <td>130</td>\n",
       "      <td>131</td>\n",
       "      <td>0</td>\n",
       "      <td>0</td>\n",
       "      <td>115</td>\n",
       "      <td>1</td>\n",
       "      <td>1.2</td>\n",
       "      <td>2</td>\n",
       "      <td>1</td>\n",
       "      <td>7</td>\n",
       "      <td>3</td>\n",
       "    </tr>\n",
       "    <tr>\n",
       "      <th>301</th>\n",
       "      <td>57</td>\n",
       "      <td>0</td>\n",
       "      <td>2</td>\n",
       "      <td>130</td>\n",
       "      <td>236</td>\n",
       "      <td>0</td>\n",
       "      <td>2</td>\n",
       "      <td>174</td>\n",
       "      <td>0</td>\n",
       "      <td>0.0</td>\n",
       "      <td>2</td>\n",
       "      <td>1</td>\n",
       "      <td>3</td>\n",
       "      <td>1</td>\n",
       "    </tr>\n",
       "    <tr>\n",
       "      <th>302</th>\n",
       "      <td>38</td>\n",
       "      <td>1</td>\n",
       "      <td>3</td>\n",
       "      <td>138</td>\n",
       "      <td>175</td>\n",
       "      <td>0</td>\n",
       "      <td>0</td>\n",
       "      <td>173</td>\n",
       "      <td>0</td>\n",
       "      <td>0.0</td>\n",
       "      <td>1</td>\n",
       "      <td>?</td>\n",
       "      <td>3</td>\n",
       "      <td>0</td>\n",
       "    </tr>\n",
       "  </tbody>\n",
       "</table>\n",
       "<p>303 rows × 14 columns</p>\n",
       "</div>"
      ],
      "text/plain": [
       "     Age  Sex  Chest_pain  Resting_blood_pressure  Cholesterol  \\\n",
       "0     63    1           1                     145          233   \n",
       "1     67    1           4                     160          286   \n",
       "2     67    1           4                     120          229   \n",
       "3     37    1           3                     130          250   \n",
       "4     41    0           2                     130          204   \n",
       "..   ...  ...         ...                     ...          ...   \n",
       "298   45    1           1                     110          264   \n",
       "299   68    1           4                     144          193   \n",
       "300   57    1           4                     130          131   \n",
       "301   57    0           2                     130          236   \n",
       "302   38    1           3                     138          175   \n",
       "\n",
       "     Fasting_blood_sugar  ECG_results  Maximum_heart_rate  \\\n",
       "0                      1            2                 150   \n",
       "1                      0            2                 108   \n",
       "2                      0            2                 129   \n",
       "3                      0            0                 187   \n",
       "4                      0            2                 172   \n",
       "..                   ...          ...                 ...   \n",
       "298                    0            0                 132   \n",
       "299                    1            0                 141   \n",
       "300                    0            0                 115   \n",
       "301                    0            2                 174   \n",
       "302                    0            0                 173   \n",
       "\n",
       "     Exercise_induced_angina  ST_depression  ST_slope Major_vessels  \\\n",
       "0                          0            2.3         3             0   \n",
       "1                          1            1.5         2             3   \n",
       "2                          1            2.6         2             2   \n",
       "3                          0            3.5         3             0   \n",
       "4                          0            1.4         1             0   \n",
       "..                       ...            ...       ...           ...   \n",
       "298                        0            1.2         2             0   \n",
       "299                        0            3.4         2             2   \n",
       "300                        1            1.2         2             1   \n",
       "301                        0            0.0         2             1   \n",
       "302                        0            0.0         1             ?   \n",
       "\n",
       "    Thalassemia_types  Heart_attack  \n",
       "0                   6             0  \n",
       "1                   3             2  \n",
       "2                   7             1  \n",
       "3                   3             0  \n",
       "4                   3             0  \n",
       "..                ...           ...  \n",
       "298                 7             1  \n",
       "299                 7             2  \n",
       "300                 7             3  \n",
       "301                 3             1  \n",
       "302                 3             0  \n",
       "\n",
       "[303 rows x 14 columns]"
      ]
     },
     "execution_count": 8,
     "metadata": {},
     "output_type": "execute_result"
    }
   ],
   "source": [
    "df"
   ]
  },
  {
   "cell_type": "code",
   "execution_count": 9,
   "id": "b5c38832",
   "metadata": {
    "colab": {
     "base_uri": "https://localhost:8080/"
    },
    "id": "b5c38832",
    "outputId": "f03cd1ce-04d7-4f2b-a49d-b059e0015043"
   },
   "outputs": [
    {
     "data": {
      "text/plain": [
       "Age                        0\n",
       "Sex                        0\n",
       "Chest_pain                 0\n",
       "Resting_blood_pressure     0\n",
       "Cholesterol                0\n",
       "Fasting_blood_sugar        0\n",
       "ECG_results                0\n",
       "Maximum_heart_rate         0\n",
       "Exercise_induced_angina    0\n",
       "ST_depression              0\n",
       "ST_slope                   0\n",
       "Major_vessels              4\n",
       "Thalassemia_types          2\n",
       "Heart_attack               0\n",
       "dtype: int64"
      ]
     },
     "execution_count": 9,
     "metadata": {},
     "output_type": "execute_result"
    }
   ],
   "source": [
    "df['Thalassemia_types'] =df['Thalassemia_types'].replace(\"?\",np.nan)\n",
    "df['Major_vessels']=df['Major_vessels'].replace(\"?\",np.nan)\n",
    "df.isna().sum()"
   ]
  },
  {
   "cell_type": "code",
   "execution_count": 10,
   "id": "783fe768",
   "metadata": {
    "id": "783fe768"
   },
   "outputs": [],
   "source": [
    "df['Major_vessels']=df['Major_vessels'].replace(np.nan,\"100\")\n",
    "df['Major_vessels'] = df['Major_vessels'].astype(int)\n",
    "df['Major_vessel'] = df.loc[df['Major_vessels'] != 100]['Major_vessels']\n",
    "mean=np.nanmean(df['Major_vessel'])\n",
    "df['Major_vessels'] = df['Major_vessels'].replace(100,mean)\n",
    "df['Thalassemia_types'] =df['Thalassemia_types'].replace(np.nan,\"100\")\n",
    "df['Thalassemia_types'] = df['Thalassemia_types'].astype(int)\n",
    "df['Thalassemia_type'] =df.loc[df['Thalassemia_types'] != 100]['Thalassemia_types']\n",
    "mean=np.nanmean(df['Thalassemia_type'])\n",
    "df['Thalassemia_types'] =df['Thalassemia_types'].replace(100,mean)\n",
    "df.drop(['Thalassemia_type','Major_vessel'],axis=1,inplace=True)"
   ]
  },
  {
   "cell_type": "code",
   "execution_count": 11,
   "id": "9cd641b2",
   "metadata": {
    "colab": {
     "base_uri": "https://localhost:8080/"
    },
    "id": "9cd641b2",
    "outputId": "04fac4fd-8636-4f9f-ea1d-0557471bf3f2",
    "scrolled": true
   },
   "outputs": [
    {
     "data": {
      "text/plain": [
       "Age                        0\n",
       "Sex                        0\n",
       "Chest_pain                 0\n",
       "Resting_blood_pressure     0\n",
       "Cholesterol                0\n",
       "Fasting_blood_sugar        0\n",
       "ECG_results                0\n",
       "Maximum_heart_rate         0\n",
       "Exercise_induced_angina    0\n",
       "ST_depression              0\n",
       "ST_slope                   0\n",
       "Major_vessels              0\n",
       "Thalassemia_types          0\n",
       "Heart_attack               0\n",
       "dtype: int64"
      ]
     },
     "execution_count": 11,
     "metadata": {},
     "output_type": "execute_result"
    }
   ],
   "source": [
    "df.isna().sum()"
   ]
  },
  {
   "cell_type": "code",
   "execution_count": 12,
   "id": "385afda6",
   "metadata": {
    "colab": {
     "base_uri": "https://localhost:8080/"
    },
    "id": "385afda6",
    "outputId": "94be5ee2-2e3c-4433-89a1-62827b3306e8"
   },
   "outputs": [
    {
     "data": {
      "text/plain": [
       "Age                          int64\n",
       "Sex                          int64\n",
       "Chest_pain                   int64\n",
       "Resting_blood_pressure       int64\n",
       "Cholesterol                  int64\n",
       "Fasting_blood_sugar          int64\n",
       "ECG_results                  int64\n",
       "Maximum_heart_rate           int64\n",
       "Exercise_induced_angina      int64\n",
       "ST_depression              float64\n",
       "ST_slope                     int64\n",
       "Major_vessels              float64\n",
       "Thalassemia_types          float64\n",
       "Heart_attack                 int64\n",
       "dtype: object"
      ]
     },
     "execution_count": 12,
     "metadata": {},
     "output_type": "execute_result"
    }
   ],
   "source": [
    "df.dtypes"
   ]
  },
  {
   "cell_type": "code",
   "execution_count": 13,
   "id": "601cfcae",
   "metadata": {
    "id": "601cfcae"
   },
   "outputs": [],
   "source": [
    "df['Heart_attack'].replace({2:\"1\",3:\"1\",4:\"1\"},inplace = True)\n",
    "df[['Heart_attack']] = df[['Heart_attack']].astype(int)"
   ]
  },
  {
   "cell_type": "code",
   "execution_count": 14,
   "id": "56485c1d",
   "metadata": {
    "colab": {
     "base_uri": "https://localhost:8080/",
     "height": 545
    },
    "id": "56485c1d",
    "outputId": "61627188-764e-416e-bed6-f07fd321adec"
   },
   "outputs": [
    {
     "data": {
      "image/png": "[encoded data removed]",
      "text/plain": [
       "<Figure size 1400x600 with 2 Axes>"
      ]
     },
     "metadata": {},
     "output_type": "display_data"
    }
   ],
   "source": [
    "fig, (ax1, ax2) = plt.subplots(nrows=1, ncols=2, sharey=False, figsize=(14,6))\n",
    "ax1 = df['Heart_attack'].value_counts().plot.pie( x=\"Heart disease\" ,y ='no.ofpatients',autopct = \"%1.0f%%\",labels=[\"Normal\",\"Heart Disease\"], startangle =60,ax=ax1);\n",
    "ax2 = df[\"Heart_attack\"].value_counts().plot(kind=\"barh\" ,ax =ax2)\n",
    "for i,j in enumerate(df[\"Heart_attack\"].value_counts().values):\n",
    "    ax2.text(.5,i,j,fontsize=12)\n",
    "    ax2.set(title = 'No. of Heart disease patients in Dataset')\n",
    "    plt.show()"
   ]
  },
  {
   "cell_type": "code",
   "execution_count": 15,
   "id": "f0933c7b",
   "metadata": {
    "colab": {
     "base_uri": "https://localhost:8080/",
     "height": 270
    },
    "id": "f0933c7b",
    "outputId": "9cef940f-2457-4fd2-de3f-ff661ca703b3"
   },
   "outputs": [
    {
     "data": {
      "text/html": [
       "<div>\n",
       "<style scoped>\n",
       "    .dataframe tbody tr th:only-of-type {\n",
       "        vertical-align: middle;\n",
       "    }\n",
       "\n",
       "    .dataframe tbody tr th {\n",
       "        vertical-align: top;\n",
       "    }\n",
       "\n",
       "    .dataframe thead th {\n",
       "        text-align: right;\n",
       "    }\n",
       "</style>\n",
       "<table border=\"1\" class=\"dataframe\">\n",
       "  <thead>\n",
       "    <tr style=\"text-align: right;\">\n",
       "      <th></th>\n",
       "      <th>Age</th>\n",
       "      <th>Sex</th>\n",
       "      <th>Chest_pain</th>\n",
       "      <th>Resting_blood_pressure</th>\n",
       "      <th>Cholesterol</th>\n",
       "      <th>Fasting_blood_sugar</th>\n",
       "      <th>ECG_results</th>\n",
       "      <th>Maximum_heart_rate</th>\n",
       "      <th>Exercise_induced_angina</th>\n",
       "      <th>ST_depression</th>\n",
       "      <th>ST_slope</th>\n",
       "      <th>Major_vessels</th>\n",
       "      <th>Thalassemia_types</th>\n",
       "      <th>Heart_attack</th>\n",
       "    </tr>\n",
       "  </thead>\n",
       "  <tbody>\n",
       "    <tr>\n",
       "      <th>0</th>\n",
       "      <td>63</td>\n",
       "      <td>1</td>\n",
       "      <td>1</td>\n",
       "      <td>145</td>\n",
       "      <td>233</td>\n",
       "      <td>1</td>\n",
       "      <td>2</td>\n",
       "      <td>150</td>\n",
       "      <td>0</td>\n",
       "      <td>2.3</td>\n",
       "      <td>3</td>\n",
       "      <td>0.0</td>\n",
       "      <td>6.0</td>\n",
       "      <td>0</td>\n",
       "    </tr>\n",
       "    <tr>\n",
       "      <th>1</th>\n",
       "      <td>67</td>\n",
       "      <td>1</td>\n",
       "      <td>4</td>\n",
       "      <td>160</td>\n",
       "      <td>286</td>\n",
       "      <td>0</td>\n",
       "      <td>2</td>\n",
       "      <td>108</td>\n",
       "      <td>1</td>\n",
       "      <td>1.5</td>\n",
       "      <td>2</td>\n",
       "      <td>3.0</td>\n",
       "      <td>3.0</td>\n",
       "      <td>1</td>\n",
       "    </tr>\n",
       "    <tr>\n",
       "      <th>2</th>\n",
       "      <td>67</td>\n",
       "      <td>1</td>\n",
       "      <td>4</td>\n",
       "      <td>120</td>\n",
       "      <td>229</td>\n",
       "      <td>0</td>\n",
       "      <td>2</td>\n",
       "      <td>129</td>\n",
       "      <td>1</td>\n",
       "      <td>2.6</td>\n",
       "      <td>2</td>\n",
       "      <td>2.0</td>\n",
       "      <td>7.0</td>\n",
       "      <td>1</td>\n",
       "    </tr>\n",
       "    <tr>\n",
       "      <th>3</th>\n",
       "      <td>37</td>\n",
       "      <td>1</td>\n",
       "      <td>3</td>\n",
       "      <td>130</td>\n",
       "      <td>250</td>\n",
       "      <td>0</td>\n",
       "      <td>0</td>\n",
       "      <td>187</td>\n",
       "      <td>0</td>\n",
       "      <td>3.5</td>\n",
       "      <td>3</td>\n",
       "      <td>0.0</td>\n",
       "      <td>3.0</td>\n",
       "      <td>0</td>\n",
       "    </tr>\n",
       "    <tr>\n",
       "      <th>4</th>\n",
       "      <td>41</td>\n",
       "      <td>0</td>\n",
       "      <td>2</td>\n",
       "      <td>130</td>\n",
       "      <td>204</td>\n",
       "      <td>0</td>\n",
       "      <td>2</td>\n",
       "      <td>172</td>\n",
       "      <td>0</td>\n",
       "      <td>1.4</td>\n",
       "      <td>1</td>\n",
       "      <td>0.0</td>\n",
       "      <td>3.0</td>\n",
       "      <td>0</td>\n",
       "    </tr>\n",
       "  </tbody>\n",
       "</table>\n",
       "</div>"
      ],
      "text/plain": [
       "   Age  Sex  Chest_pain  Resting_blood_pressure  Cholesterol  \\\n",
       "0   63    1           1                     145          233   \n",
       "1   67    1           4                     160          286   \n",
       "2   67    1           4                     120          229   \n",
       "3   37    1           3                     130          250   \n",
       "4   41    0           2                     130          204   \n",
       "\n",
       "   Fasting_blood_sugar  ECG_results  Maximum_heart_rate  \\\n",
       "0                    1            2                 150   \n",
       "1                    0            2                 108   \n",
       "2                    0            2                 129   \n",
       "3                    0            0                 187   \n",
       "4                    0            2                 172   \n",
       "\n",
       "   Exercise_induced_angina  ST_depression  ST_slope  Major_vessels  \\\n",
       "0                        0            2.3         3            0.0   \n",
       "1                        1            1.5         2            3.0   \n",
       "2                        1            2.6         2            2.0   \n",
       "3                        0            3.5         3            0.0   \n",
       "4                        0            1.4         1            0.0   \n",
       "\n",
       "   Thalassemia_types  Heart_attack  \n",
       "0                6.0             0  \n",
       "1                3.0             1  \n",
       "2                7.0             1  \n",
       "3                3.0             0  \n",
       "4                3.0             0  "
      ]
     },
     "execution_count": 15,
     "metadata": {},
     "output_type": "execute_result"
    }
   ],
   "source": [
    "df.head()"
   ]
  },
  {
   "cell_type": "code",
   "execution_count": 16,
   "id": "5f2aab73",
   "metadata": {
    "colab": {
     "base_uri": "https://localhost:8080/",
     "height": 270
    },
    "id": "5f2aab73",
    "outputId": "3ae597c3-bb78-490a-b15f-e3e48d04e8f0"
   },
   "outputs": [
    {
     "data": {
      "text/html": [
       "<div>\n",
       "<style scoped>\n",
       "    .dataframe tbody tr th:only-of-type {\n",
       "        vertical-align: middle;\n",
       "    }\n",
       "\n",
       "    .dataframe tbody tr th {\n",
       "        vertical-align: top;\n",
       "    }\n",
       "\n",
       "    .dataframe thead th {\n",
       "        text-align: right;\n",
       "    }\n",
       "</style>\n",
       "<table border=\"1\" class=\"dataframe\">\n",
       "  <thead>\n",
       "    <tr style=\"text-align: right;\">\n",
       "      <th></th>\n",
       "      <th>Age</th>\n",
       "      <th>Sex</th>\n",
       "      <th>Chest_pain</th>\n",
       "      <th>Resting_blood_pressure</th>\n",
       "      <th>Cholesterol</th>\n",
       "      <th>Fasting_blood_sugar</th>\n",
       "      <th>ECG_results</th>\n",
       "      <th>Maximum_heart_rate</th>\n",
       "      <th>Exercise_induced_angina</th>\n",
       "      <th>ST_depression</th>\n",
       "      <th>ST_slope</th>\n",
       "      <th>Major_vessels</th>\n",
       "      <th>Thalassemia_types</th>\n",
       "      <th>Heart_attack</th>\n",
       "    </tr>\n",
       "  </thead>\n",
       "  <tbody>\n",
       "    <tr>\n",
       "      <th>298</th>\n",
       "      <td>45</td>\n",
       "      <td>1</td>\n",
       "      <td>1</td>\n",
       "      <td>110</td>\n",
       "      <td>264</td>\n",
       "      <td>0</td>\n",
       "      <td>0</td>\n",
       "      <td>132</td>\n",
       "      <td>0</td>\n",
       "      <td>1.2</td>\n",
       "      <td>2</td>\n",
       "      <td>0.000000</td>\n",
       "      <td>7.0</td>\n",
       "      <td>1</td>\n",
       "    </tr>\n",
       "    <tr>\n",
       "      <th>299</th>\n",
       "      <td>68</td>\n",
       "      <td>1</td>\n",
       "      <td>4</td>\n",
       "      <td>144</td>\n",
       "      <td>193</td>\n",
       "      <td>1</td>\n",
       "      <td>0</td>\n",
       "      <td>141</td>\n",
       "      <td>0</td>\n",
       "      <td>3.4</td>\n",
       "      <td>2</td>\n",
       "      <td>2.000000</td>\n",
       "      <td>7.0</td>\n",
       "      <td>1</td>\n",
       "    </tr>\n",
       "    <tr>\n",
       "      <th>300</th>\n",
       "      <td>57</td>\n",
       "      <td>1</td>\n",
       "      <td>4</td>\n",
       "      <td>130</td>\n",
       "      <td>131</td>\n",
       "      <td>0</td>\n",
       "      <td>0</td>\n",
       "      <td>115</td>\n",
       "      <td>1</td>\n",
       "      <td>1.2</td>\n",
       "      <td>2</td>\n",
       "      <td>1.000000</td>\n",
       "      <td>7.0</td>\n",
       "      <td>1</td>\n",
       "    </tr>\n",
       "    <tr>\n",
       "      <th>301</th>\n",
       "      <td>57</td>\n",
       "      <td>0</td>\n",
       "      <td>2</td>\n",
       "      <td>130</td>\n",
       "      <td>236</td>\n",
       "      <td>0</td>\n",
       "      <td>2</td>\n",
       "      <td>174</td>\n",
       "      <td>0</td>\n",
       "      <td>0.0</td>\n",
       "      <td>2</td>\n",
       "      <td>1.000000</td>\n",
       "      <td>3.0</td>\n",
       "      <td>1</td>\n",
       "    </tr>\n",
       "    <tr>\n",
       "      <th>302</th>\n",
       "      <td>38</td>\n",
       "      <td>1</td>\n",
       "      <td>3</td>\n",
       "      <td>138</td>\n",
       "      <td>175</td>\n",
       "      <td>0</td>\n",
       "      <td>0</td>\n",
       "      <td>173</td>\n",
       "      <td>0</td>\n",
       "      <td>0.0</td>\n",
       "      <td>1</td>\n",
       "      <td>0.672241</td>\n",
       "      <td>3.0</td>\n",
       "      <td>0</td>\n",
       "    </tr>\n",
       "  </tbody>\n",
       "</table>\n",
       "</div>"
      ],
      "text/plain": [
       "     Age  Sex  Chest_pain  Resting_blood_pressure  Cholesterol  \\\n",
       "298   45    1           1                     110          264   \n",
       "299   68    1           4                     144          193   \n",
       "300   57    1           4                     130          131   \n",
       "301   57    0           2                     130          236   \n",
       "302   38    1           3                     138          175   \n",
       "\n",
       "     Fasting_blood_sugar  ECG_results  Maximum_heart_rate  \\\n",
       "298                    0            0                 132   \n",
       "299                    1            0                 141   \n",
       "300                    0            0                 115   \n",
       "301                    0            2                 174   \n",
       "302                    0            0                 173   \n",
       "\n",
       "     Exercise_induced_angina  ST_depression  ST_slope  Major_vessels  \\\n",
       "298                        0            1.2         2       0.000000   \n",
       "299                        0            3.4         2       2.000000   \n",
       "300                        1            1.2         2       1.000000   \n",
       "301                        0            0.0         2       1.000000   \n",
       "302                        0            0.0         1       0.672241   \n",
       "\n",
       "     Thalassemia_types  Heart_attack  \n",
       "298                7.0             1  \n",
       "299                7.0             1  \n",
       "300                7.0             1  \n",
       "301                3.0             1  \n",
       "302                3.0             0  "
      ]
     },
     "execution_count": 16,
     "metadata": {},
     "output_type": "execute_result"
    }
   ],
   "source": [
    "df.tail()"
   ]
  },
  {
   "cell_type": "code",
   "execution_count": 17,
   "id": "be6b62f0",
   "metadata": {
    "colab": {
     "base_uri": "https://localhost:8080/"
    },
    "id": "be6b62f0",
    "outputId": "3c907db5-3f32-4b6f-8f84-4277ff31b1c2"
   },
   "outputs": [
    {
     "data": {
      "text/plain": [
       "(303, 14)"
      ]
     },
     "execution_count": 17,
     "metadata": {},
     "output_type": "execute_result"
    }
   ],
   "source": [
    "df.shape"
   ]
  },
  {
   "cell_type": "code",
   "execution_count": 18,
   "id": "505def70",
   "metadata": {
    "colab": {
     "base_uri": "https://localhost:8080/"
    },
    "id": "505def70",
    "outputId": "3917ad9b-9128-4480-cc18-a4c249b639cc"
   },
   "outputs": [
    {
     "data": {
      "text/plain": [
       "Age                        303\n",
       "Sex                        303\n",
       "Chest_pain                 303\n",
       "Resting_blood_pressure     303\n",
       "Cholesterol                303\n",
       "Fasting_blood_sugar        303\n",
       "ECG_results                303\n",
       "Maximum_heart_rate         303\n",
       "Exercise_induced_angina    303\n",
       "ST_depression              303\n",
       "ST_slope                   303\n",
       "Major_vessels              303\n",
       "Thalassemia_types          303\n",
       "Heart_attack               303\n",
       "dtype: int64"
      ]
     },
     "execution_count": 18,
     "metadata": {},
     "output_type": "execute_result"
    }
   ],
   "source": [
    "df.notna().sum()"
   ]
  },
  {
   "cell_type": "code",
   "execution_count": 19,
   "id": "34838d73",
   "metadata": {
    "colab": {
     "base_uri": "https://localhost:8080/",
     "height": 364
    },
    "id": "34838d73",
    "outputId": "b631d1bc-51cf-49ec-c4b9-ea229ee8adf0"
   },
   "outputs": [
    {
     "data": {
      "text/html": [
       "<div>\n",
       "<style scoped>\n",
       "    .dataframe tbody tr th:only-of-type {\n",
       "        vertical-align: middle;\n",
       "    }\n",
       "\n",
       "    .dataframe tbody tr th {\n",
       "        vertical-align: top;\n",
       "    }\n",
       "\n",
       "    .dataframe thead th {\n",
       "        text-align: right;\n",
       "    }\n",
       "</style>\n",
       "<table border=\"1\" class=\"dataframe\">\n",
       "  <thead>\n",
       "    <tr style=\"text-align: right;\">\n",
       "      <th></th>\n",
       "      <th>Age</th>\n",
       "      <th>Sex</th>\n",
       "      <th>Chest_pain</th>\n",
       "      <th>Resting_blood_pressure</th>\n",
       "      <th>Cholesterol</th>\n",
       "      <th>Fasting_blood_sugar</th>\n",
       "      <th>ECG_results</th>\n",
       "      <th>Maximum_heart_rate</th>\n",
       "      <th>Exercise_induced_angina</th>\n",
       "      <th>ST_depression</th>\n",
       "      <th>ST_slope</th>\n",
       "      <th>Major_vessels</th>\n",
       "      <th>Thalassemia_types</th>\n",
       "      <th>Heart_attack</th>\n",
       "    </tr>\n",
       "  </thead>\n",
       "  <tbody>\n",
       "    <tr>\n",
       "      <th>count</th>\n",
       "      <td>303.000000</td>\n",
       "      <td>303.000000</td>\n",
       "      <td>303.000000</td>\n",
       "      <td>303.000000</td>\n",
       "      <td>303.000000</td>\n",
       "      <td>303.000000</td>\n",
       "      <td>303.000000</td>\n",
       "      <td>303.000000</td>\n",
       "      <td>303.000000</td>\n",
       "      <td>303.000000</td>\n",
       "      <td>303.000000</td>\n",
       "      <td>303.000000</td>\n",
       "      <td>303.000000</td>\n",
       "      <td>303.000000</td>\n",
       "    </tr>\n",
       "    <tr>\n",
       "      <th>mean</th>\n",
       "      <td>54.438944</td>\n",
       "      <td>0.679868</td>\n",
       "      <td>3.158416</td>\n",
       "      <td>131.689769</td>\n",
       "      <td>246.693069</td>\n",
       "      <td>0.148515</td>\n",
       "      <td>0.990099</td>\n",
       "      <td>149.607261</td>\n",
       "      <td>0.326733</td>\n",
       "      <td>1.039604</td>\n",
       "      <td>1.600660</td>\n",
       "      <td>0.672241</td>\n",
       "      <td>4.734219</td>\n",
       "      <td>0.458746</td>\n",
       "    </tr>\n",
       "    <tr>\n",
       "      <th>std</th>\n",
       "      <td>9.038662</td>\n",
       "      <td>0.467299</td>\n",
       "      <td>0.960126</td>\n",
       "      <td>17.599748</td>\n",
       "      <td>51.776918</td>\n",
       "      <td>0.356198</td>\n",
       "      <td>0.994971</td>\n",
       "      <td>22.875003</td>\n",
       "      <td>0.469794</td>\n",
       "      <td>1.161075</td>\n",
       "      <td>0.616226</td>\n",
       "      <td>0.931209</td>\n",
       "      <td>1.933272</td>\n",
       "      <td>0.499120</td>\n",
       "    </tr>\n",
       "    <tr>\n",
       "      <th>min</th>\n",
       "      <td>29.000000</td>\n",
       "      <td>0.000000</td>\n",
       "      <td>1.000000</td>\n",
       "      <td>94.000000</td>\n",
       "      <td>126.000000</td>\n",
       "      <td>0.000000</td>\n",
       "      <td>0.000000</td>\n",
       "      <td>71.000000</td>\n",
       "      <td>0.000000</td>\n",
       "      <td>0.000000</td>\n",
       "      <td>1.000000</td>\n",
       "      <td>0.000000</td>\n",
       "      <td>3.000000</td>\n",
       "      <td>0.000000</td>\n",
       "    </tr>\n",
       "    <tr>\n",
       "      <th>25%</th>\n",
       "      <td>48.000000</td>\n",
       "      <td>0.000000</td>\n",
       "      <td>3.000000</td>\n",
       "      <td>120.000000</td>\n",
       "      <td>211.000000</td>\n",
       "      <td>0.000000</td>\n",
       "      <td>0.000000</td>\n",
       "      <td>133.500000</td>\n",
       "      <td>0.000000</td>\n",
       "      <td>0.000000</td>\n",
       "      <td>1.000000</td>\n",
       "      <td>0.000000</td>\n",
       "      <td>3.000000</td>\n",
       "      <td>0.000000</td>\n",
       "    </tr>\n",
       "    <tr>\n",
       "      <th>50%</th>\n",
       "      <td>56.000000</td>\n",
       "      <td>1.000000</td>\n",
       "      <td>3.000000</td>\n",
       "      <td>130.000000</td>\n",
       "      <td>241.000000</td>\n",
       "      <td>0.000000</td>\n",
       "      <td>1.000000</td>\n",
       "      <td>153.000000</td>\n",
       "      <td>0.000000</td>\n",
       "      <td>0.800000</td>\n",
       "      <td>2.000000</td>\n",
       "      <td>0.000000</td>\n",
       "      <td>3.000000</td>\n",
       "      <td>0.000000</td>\n",
       "    </tr>\n",
       "    <tr>\n",
       "      <th>75%</th>\n",
       "      <td>61.000000</td>\n",
       "      <td>1.000000</td>\n",
       "      <td>4.000000</td>\n",
       "      <td>140.000000</td>\n",
       "      <td>275.000000</td>\n",
       "      <td>0.000000</td>\n",
       "      <td>2.000000</td>\n",
       "      <td>166.000000</td>\n",
       "      <td>1.000000</td>\n",
       "      <td>1.600000</td>\n",
       "      <td>2.000000</td>\n",
       "      <td>1.000000</td>\n",
       "      <td>7.000000</td>\n",
       "      <td>1.000000</td>\n",
       "    </tr>\n",
       "    <tr>\n",
       "      <th>max</th>\n",
       "      <td>77.000000</td>\n",
       "      <td>1.000000</td>\n",
       "      <td>4.000000</td>\n",
       "      <td>200.000000</td>\n",
       "      <td>564.000000</td>\n",
       "      <td>1.000000</td>\n",
       "      <td>2.000000</td>\n",
       "      <td>202.000000</td>\n",
       "      <td>1.000000</td>\n",
       "      <td>6.200000</td>\n",
       "      <td>3.000000</td>\n",
       "      <td>3.000000</td>\n",
       "      <td>7.000000</td>\n",
       "      <td>1.000000</td>\n",
       "    </tr>\n",
       "  </tbody>\n",
       "</table>\n",
       "</div>"
      ],
      "text/plain": [
       "              Age         Sex  Chest_pain  Resting_blood_pressure  \\\n",
       "count  303.000000  303.000000  303.000000              303.000000   \n",
       "mean    54.438944    0.679868    3.158416              131.689769   \n",
       "std      9.038662    0.467299    0.960126               17.599748   \n",
       "min     29.000000    0.000000    1.000000               94.000000   \n",
       "25%     48.000000    0.000000    3.000000              120.000000   \n",
       "50%     56.000000    1.000000    3.000000              130.000000   \n",
       "75%     61.000000    1.000000    4.000000              140.000000   \n",
       "max     77.000000    1.000000    4.000000              200.000000   \n",
       "\n",
       "       Cholesterol  Fasting_blood_sugar  ECG_results  Maximum_heart_rate  \\\n",
       "count   303.000000           303.000000   303.000000          303.000000   \n",
       "mean    246.693069             0.148515     0.990099          149.607261   \n",
       "std      51.776918             0.356198     0.994971           22.875003   \n",
       "min     126.000000             0.000000     0.000000           71.000000   \n",
       "25%     211.000000             0.000000     0.000000          133.500000   \n",
       "50%     241.000000             0.000000     1.000000          153.000000   \n",
       "75%     275.000000             0.000000     2.000000          166.000000   \n",
       "max     564.000000             1.000000     2.000000          202.000000   \n",
       "\n",
       "       Exercise_induced_angina  ST_depression    ST_slope  Major_vessels  \\\n",
       "count               303.000000     303.000000  303.000000     303.000000   \n",
       "mean                  0.326733       1.039604    1.600660       0.672241   \n",
       "std                   0.469794       1.161075    0.616226       0.931209   \n",
       "min                   0.000000       0.000000    1.000000       0.000000   \n",
       "25%                   0.000000       0.000000    1.000000       0.000000   \n",
       "50%                   0.000000       0.800000    2.000000       0.000000   \n",
       "75%                   1.000000       1.600000    2.000000       1.000000   \n",
       "max                   1.000000       6.200000    3.000000       3.000000   \n",
       "\n",
       "       Thalassemia_types  Heart_attack  \n",
       "count         303.000000    303.000000  \n",
       "mean            4.734219      0.458746  \n",
       "std             1.933272      0.499120  \n",
       "min             3.000000      0.000000  \n",
       "25%             3.000000      0.000000  \n",
       "50%             3.000000      0.000000  \n",
       "75%             7.000000      1.000000  \n",
       "max             7.000000      1.000000  "
      ]
     },
     "execution_count": 19,
     "metadata": {},
     "output_type": "execute_result"
    }
   ],
   "source": [
    "df.describe()"
   ]
  },
  {
   "cell_type": "code",
   "execution_count": 20,
   "id": "889015ef",
   "metadata": {
    "colab": {
     "base_uri": "https://localhost:8080/"
    },
    "id": "889015ef",
    "outputId": "db7f994c-5876-4540-b270-d2afa206ca34"
   },
   "outputs": [
    {
     "name": "stdout",
     "output_type": "stream",
     "text": [
      "<class 'pandas.core.frame.DataFrame'>\n",
      "RangeIndex: 303 entries, 0 to 302\n",
      "Data columns (total 14 columns):\n",
      " #   Column                   Non-Null Count  Dtype  \n",
      "---  ------                   --------------  -----  \n",
      " 0   Age                      303 non-null    int64  \n",
      " 1   Sex                      303 non-null    int64  \n",
      " 2   Chest_pain               303 non-null    int64  \n",
      " 3   Resting_blood_pressure   303 non-null    int64  \n",
      " 4   Cholesterol              303 non-null    int64  \n",
      " 5   Fasting_blood_sugar      303 non-null    int64  \n",
      " 6   ECG_results              303 non-null    int64  \n",
      " 7   Maximum_heart_rate       303 non-null    int64  \n",
      " 8   Exercise_induced_angina  303 non-null    int64  \n",
      " 9   ST_depression            303 non-null    float64\n",
      " 10  ST_slope                 303 non-null    int64  \n",
      " 11  Major_vessels            303 non-null    float64\n",
      " 12  Thalassemia_types        303 non-null    float64\n",
      " 13  Heart_attack             303 non-null    int32  \n",
      "dtypes: float64(3), int32(1), int64(10)\n",
      "memory usage: 32.1 KB\n"
     ]
    }
   ],
   "source": [
    "df.info()"
   ]
  },
  {
   "cell_type": "markdown",
   "id": "994a0c72",
   "metadata": {
    "id": "994a0c72"
   },
   "source": [
    "Model selection and training"
   ]
  },
  {
   "cell_type": "code",
   "execution_count": 21,
   "id": "f0c0ffd0",
   "metadata": {
    "id": "f0c0ffd0"
   },
   "outputs": [],
   "source": [
    "df1=df.drop(['Heart_attack'],axis=1)\n",
    "X= df1\n",
    "Y = df.Heart_attack\n"
   ]
  },
  {
   "cell_type": "code",
   "execution_count": 22,
   "id": "b161ecc4",
   "metadata": {
    "id": "b161ecc4"
   },
   "outputs": [],
   "source": [
    "X_train, X_test, y_train, y_test = train_test_split(X, Y,test_size=0.2,random_state=42)\n",
    "sc_X=StandardScaler()\n",
    "X_train=sc_X.fit_transform(X_train)\n",
    "X_test=sc_X.transform(X_test)"
   ]
  },
  {
   "cell_type": "code",
   "execution_count": 23,
   "id": "f7558298",
   "metadata": {
    "colab": {
     "base_uri": "https://localhost:8080/"
    },
    "id": "f7558298",
    "outputId": "6f9c2ea9-07f3-4368-f3c3-b26e2504a74d",
    "scrolled": true
   },
   "outputs": [
    {
     "name": "stdout",
     "output_type": "stream",
     "text": [
      "[[28  1]\n",
      " [19 13]]\n",
      "Accuracy: 88.52459016393442\n",
      "F1 score: 89.23076923076923\n",
      "Precision: 87.87878787878788\n",
      "Sensitivity: 96.55172413793103\n",
      "Specificity: 40.625\n",
      "classification_error: 11.47540983606558\n"
     ]
    }
   ],
   "source": [
    "#fitting LR to training set\n",
    "classifier =LogisticRegression()\n",
    "classifier.fit(X_train,y_train)\n",
    "#Predict the test set results\n",
    "y_Class_pred=classifier.predict(X_test)\n",
    "y_pred_new_threshold = (classifier.predict_proba(X_test)[:,1]>=0.9).astype(int)\n",
    "cm1 =confusion_matrix(y_test, y_pred_new_threshold)\n",
    "sensitivity = cm1[0,0]/(cm1[0,0]+cm1[0,1])\n",
    "specificity = cm1[1,1]/(cm1[1,0]+cm1[1,1])\n",
    "print(cm1)\n",
    "#checking the accuracy for predicted results\n",
    "lr_acc = accuracy_score(y_test, y_Class_pred)*100\n",
    "lr_f1 = f1_score(y_test, y_Class_pred)*100\n",
    "lr_pre = precision_score(y_test, y_Class_pred)*100\n",
    "lr_sens = sensitivity*100\n",
    "lr_spec = specificity*100\n",
    "print(\"Accuracy:\",lr_acc)#y 83\n",
    "print('F1 score:', lr_f1)#90 =8\n",
    "print(\"Precision:\",lr_pre)#90 =7\n",
    "print('Sensitivity:',lr_sens)#91 y\n",
    "print('Specificity:',lr_spec)#25 \n",
    "print('classification_error:',100-accuracy_score(y_test, y_Class_pred)*100)#y 17"
   ]
  },
  {
   "cell_type": "code",
   "execution_count": 24,
   "id": "df215f15",
   "metadata": {
    "colab": {
     "base_uri": "https://localhost:8080/"
    },
    "id": "df215f15",
    "outputId": "7e8cce10-4a31-4a9a-d8ed-dc35642511f8"
   },
   "outputs": [
    {
     "name": "stdout",
     "output_type": "stream",
     "text": [
      "Accuracy: 83.60655737704919\n",
      "Precision: 87.87878787878788\n",
      "F1 score: 83.33333333333334\n",
      "Sensitivity: 93.10344827586206\n",
      "Specificity: 75.0\n",
      "classification_error: 16.393442622950815\n"
     ]
    },
    {
     "data": {
      "text/plain": [
       "array([[27,  2],\n",
       "       [ 8, 24]], dtype=int64)"
      ]
     },
     "execution_count": 24,
     "metadata": {},
     "output_type": "execute_result"
    }
   ],
   "source": [
    "classifiergb = GaussianNB()\n",
    "classifiergb.fit(X_train, y_train)\n",
    "##Predict the test set results\n",
    "y_pred =classifiergb.predict(X_test)\n",
    "y_pred_new_threshold =(classifiergb.predict_proba(X_test)[:,1]>=0.9).astype(int)\n",
    "cm1 = confusion_matrix(y_test, y_pred_new_threshold)\n",
    "#cm1 = confusion_matrix(y_test, y_pred)\n",
    "\n",
    "sensitivity = cm1[0,0]/(cm1[0,0]+cm1[0,1])\n",
    "specificity = cm1[1,1]/(cm1[1,0]+cm1[1,1])\n",
    "#checking the accuracy for predicted results\n",
    "nb_acc = accuracy_score(y_test, y_pred)*100\n",
    "nb_f1 = f1_score(y_test, y_pred)*100\n",
    "nb_pre = precision_score(y_test, y_Class_pred)*100\n",
    "nb_sens = sensitivity*100\n",
    "nb_spec = specificity*100\n",
    "print(\"Accuracy:\",nb_acc)# 76 2   y\n",
    "print(\"Precision:\",nb_pre)#90.5 7  yk\n",
    "print('F1 score:', nb_f1)#84.5 11\n",
    "print('Sensitivity:',nb_sens)#79 12\n",
    "print('Specificity:',nb_spec)#60 1  y\n",
    "print('classification_error:',100-accuracy_score(y_test, y_pred)*100)#24 3 y\n",
    "cm1"
   ]
  },
  {
   "cell_type": "code",
   "execution_count": 25,
   "id": "47273770",
   "metadata": {
    "colab": {
     "base_uri": "https://localhost:8080/",
     "height": 1000
    },
    "id": "47273770",
    "outputId": "86153528-a0e8-486a-b9d1-7aafaa5d4181"
   },
   "outputs": [
    {
     "name": "stdout",
     "output_type": "stream",
     "text": [
      "[[26  3]\n",
      " [ 8 24]]\n",
      "Accuracy: 81.9672131147541\n",
      "Precision: 88.88888888888889\n",
      "F1 score: 81.35593220338983\n",
      "Sensitivity: 89.65517241379311\n",
      "Specificity: 75.0\n",
      "classification_error: 18.032786885245898\n",
      "\n",
      "\n"
     ]
    },
    {
     "data": {
      "text/plain": [
       "[Text(0.49609375, 0.9444444444444444, 'Chest_pain <= 0.414\\nentropy = 0.99\\nsamples = 242\\nvalue = [135, 107]'),\n",
       " Text(0.1953125, 0.8333333333333334, 'Age <= 0.186\\nentropy = 0.767\\nsamples = 134\\nvalue = [104, 30]'),\n",
       " Text(0.0625, 0.7222222222222222, 'Cholesterol <= -0.366\\nentropy = 0.473\\nsamples = 79\\nvalue = [71, 8]'),\n",
       " Text(0.041666666666666664, 0.6111111111111112, 'entropy = 0.0\\nsamples = 37\\nvalue = [37, 0]'),\n",
       " Text(0.08333333333333333, 0.6111111111111112, 'Cholesterol <= -0.293\\nentropy = 0.702\\nsamples = 42\\nvalue = [34, 8]'),\n",
       " Text(0.0625, 0.5, 'entropy = 0.0\\nsamples = 3\\nvalue = [0, 3]'),\n",
       " Text(0.10416666666666667, 0.5, 'Thalassemia_types <= -0.098\\nentropy = 0.552\\nsamples = 39\\nvalue = [34, 5]'),\n",
       " Text(0.0625, 0.3888888888888889, 'Resting_blood_pressure <= -1.282\\nentropy = 0.216\\nsamples = 29\\nvalue = [28, 1]'),\n",
       " Text(0.041666666666666664, 0.2777777777777778, 'Age <= -0.474\\nentropy = 1.0\\nsamples = 2\\nvalue = [1, 1]'),\n",
       " Text(0.020833333333333332, 0.16666666666666666, 'entropy = 0.0\\nsamples = 1\\nvalue = [0, 1]'),\n",
       " Text(0.0625, 0.16666666666666666, 'entropy = 0.0\\nsamples = 1\\nvalue = [1, 0]'),\n",
       " Text(0.08333333333333333, 0.2777777777777778, 'entropy = 0.0\\nsamples = 27\\nvalue = [27, 0]'),\n",
       " Text(0.14583333333333334, 0.3888888888888889, 'Major_vessels <= -0.167\\nentropy = 0.971\\nsamples = 10\\nvalue = [6, 4]'),\n",
       " Text(0.125, 0.2777777777777778, 'Maximum_heart_rate <= -0.473\\nentropy = 0.592\\nsamples = 7\\nvalue = [6, 1]'),\n",
       " Text(0.10416666666666667, 0.16666666666666666, 'entropy = 0.0\\nsamples = 1\\nvalue = [0, 1]'),\n",
       " Text(0.14583333333333334, 0.16666666666666666, 'entropy = 0.0\\nsamples = 6\\nvalue = [6, 0]'),\n",
       " Text(0.16666666666666666, 0.2777777777777778, 'entropy = 0.0\\nsamples = 3\\nvalue = [0, 3]'),\n",
       " Text(0.328125, 0.7222222222222222, 'Sex <= -0.331\\nentropy = 0.971\\nsamples = 55\\nvalue = [33, 22]'),\n",
       " Text(0.22916666666666666, 0.6111111111111112, 'Age <= 0.846\\nentropy = 0.575\\nsamples = 22\\nvalue = [19, 3]'),\n",
       " Text(0.20833333333333334, 0.5, 'Major_vessels <= -0.167\\nentropy = 0.954\\nsamples = 8\\nvalue = [5, 3]'),\n",
       " Text(0.1875, 0.3888888888888889, 'entropy = 0.0\\nsamples = 4\\nvalue = [4, 0]'),\n",
       " Text(0.22916666666666666, 0.3888888888888889, 'Resting_blood_pressure <= -0.896\\nentropy = 0.811\\nsamples = 4\\nvalue = [1, 3]'),\n",
       " Text(0.20833333333333334, 0.2777777777777778, 'entropy = 0.0\\nsamples = 1\\nvalue = [1, 0]'),\n",
       " Text(0.25, 0.2777777777777778, 'entropy = 0.0\\nsamples = 3\\nvalue = [0, 3]'),\n",
       " Text(0.25, 0.5, 'entropy = 0.0\\nsamples = 14\\nvalue = [14, 0]'),\n",
       " Text(0.4270833333333333, 0.6111111111111112, 'Cholesterol <= -0.002\\nentropy = 0.983\\nsamples = 33\\nvalue = [14, 19]'),\n",
       " Text(0.3541666666666667, 0.5, 'Major_vessels <= 0.21\\nentropy = 0.971\\nsamples = 20\\nvalue = [12, 8]'),\n",
       " Text(0.3125, 0.3888888888888889, 'ST_depression <= 1.362\\nentropy = 0.65\\nsamples = 12\\nvalue = [10, 2]'),\n",
       " Text(0.2916666666666667, 0.2777777777777778, 'Age <= 1.176\\nentropy = 0.439\\nsamples = 11\\nvalue = [10, 1]'),\n",
       " Text(0.2708333333333333, 0.16666666666666666, 'entropy = 0.0\\nsamples = 9\\nvalue = [9, 0]'),\n",
       " Text(0.3125, 0.16666666666666666, 'ST_depression <= -0.536\\nentropy = 1.0\\nsamples = 2\\nvalue = [1, 1]'),\n",
       " Text(0.2916666666666667, 0.05555555555555555, 'entropy = 0.0\\nsamples = 1\\nvalue = [1, 0]'),\n",
       " Text(0.3333333333333333, 0.05555555555555555, 'entropy = 0.0\\nsamples = 1\\nvalue = [0, 1]'),\n",
       " Text(0.3333333333333333, 0.2777777777777778, 'entropy = 0.0\\nsamples = 1\\nvalue = [0, 1]'),\n",
       " Text(0.3958333333333333, 0.3888888888888889, 'Resting_blood_pressure <= 0.534\\nentropy = 0.811\\nsamples = 8\\nvalue = [2, 6]'),\n",
       " Text(0.375, 0.2777777777777778, 'entropy = 0.0\\nsamples = 5\\nvalue = [0, 5]'),\n",
       " Text(0.4166666666666667, 0.2777777777777778, 'ST_depression <= -0.831\\nentropy = 0.918\\nsamples = 3\\nvalue = [2, 1]'),\n",
       " Text(0.3958333333333333, 0.16666666666666666, 'entropy = 0.0\\nsamples = 1\\nvalue = [0, 1]'),\n",
       " Text(0.4375, 0.16666666666666666, 'entropy = 0.0\\nsamples = 2\\nvalue = [2, 0]'),\n",
       " Text(0.5, 0.5, 'ST_depression <= 2.121\\nentropy = 0.619\\nsamples = 13\\nvalue = [2, 11]'),\n",
       " Text(0.4791666666666667, 0.3888888888888889, 'Resting_blood_pressure <= -0.731\\nentropy = 0.414\\nsamples = 12\\nvalue = [1, 11]'),\n",
       " Text(0.4583333333333333, 0.2777777777777778, 'entropy = 0.0\\nsamples = 1\\nvalue = [1, 0]'),\n",
       " Text(0.5, 0.2777777777777778, 'entropy = 0.0\\nsamples = 11\\nvalue = [0, 11]'),\n",
       " Text(0.5208333333333334, 0.3888888888888889, 'entropy = 0.0\\nsamples = 1\\nvalue = [1, 0]'),\n",
       " Text(0.796875, 0.8333333333333334, 'Major_vessels <= -0.167\\nentropy = 0.865\\nsamples = 108\\nvalue = [31, 77]'),\n",
       " Text(0.6979166666666666, 0.7222222222222222, 'Thalassemia_types <= 0.944\\nentropy = 0.995\\nsamples = 48\\nvalue = [26, 22]'),\n",
       " Text(0.625, 0.6111111111111112, 'Age <= 0.406\\nentropy = 0.784\\nsamples = 30\\nvalue = [23, 7]'),\n",
       " Text(0.5833333333333334, 0.5, 'Thalassemia_types <= -0.428\\nentropy = 0.469\\nsamples = 20\\nvalue = [18, 2]'),\n",
       " Text(0.5625, 0.3888888888888889, 'entropy = 0.0\\nsamples = 16\\nvalue = [16, 0]'),\n",
       " Text(0.6041666666666666, 0.3888888888888889, 'Age <= -0.034\\nentropy = 1.0\\nsamples = 4\\nvalue = [2, 2]'),\n",
       " Text(0.5833333333333334, 0.2777777777777778, 'entropy = 0.0\\nsamples = 2\\nvalue = [0, 2]'),\n",
       " Text(0.625, 0.2777777777777778, 'entropy = 0.0\\nsamples = 2\\nvalue = [2, 0]'),\n",
       " Text(0.6666666666666666, 0.5, 'Age <= 0.736\\nentropy = 1.0\\nsamples = 10\\nvalue = [5, 5]'),\n",
       " Text(0.6458333333333334, 0.3888888888888889, 'entropy = 0.0\\nsamples = 2\\nvalue = [0, 2]'),\n",
       " Text(0.6875, 0.3888888888888889, 'ST_slope <= -0.154\\nentropy = 0.954\\nsamples = 8\\nvalue = [5, 3]'),\n",
       " Text(0.6666666666666666, 0.2777777777777778, 'entropy = 0.0\\nsamples = 3\\nvalue = [3, 0]'),\n",
       " Text(0.7083333333333334, 0.2777777777777778, 'Exercise_induced_angina <= 0.34\\nentropy = 0.971\\nsamples = 5\\nvalue = [2, 3]'),\n",
       " Text(0.6875, 0.16666666666666666, 'Maximum_heart_rate <= -2.323\\nentropy = 0.918\\nsamples = 3\\nvalue = [2, 1]'),\n",
       " Text(0.6666666666666666, 0.05555555555555555, 'entropy = 0.0\\nsamples = 1\\nvalue = [0, 1]'),\n",
       " Text(0.7083333333333334, 0.05555555555555555, 'entropy = 0.0\\nsamples = 2\\nvalue = [2, 0]'),\n",
       " Text(0.7291666666666666, 0.16666666666666666, 'entropy = 0.0\\nsamples = 2\\nvalue = [0, 2]'),\n",
       " Text(0.7708333333333334, 0.6111111111111112, 'ST_depression <= -0.494\\nentropy = 0.65\\nsamples = 18\\nvalue = [3, 15]'),\n",
       " Text(0.75, 0.5, 'Sex <= -0.331\\nentropy = 0.811\\nsamples = 4\\nvalue = [3, 1]'),\n",
       " Text(0.7291666666666666, 0.3888888888888889, 'entropy = 0.0\\nsamples = 1\\nvalue = [0, 1]'),\n",
       " Text(0.7708333333333334, 0.3888888888888889, 'entropy = 0.0\\nsamples = 3\\nvalue = [3, 0]'),\n",
       " Text(0.7916666666666666, 0.5, 'entropy = 0.0\\nsamples = 14\\nvalue = [0, 14]'),\n",
       " Text(0.8958333333333334, 0.7222222222222222, 'ST_depression <= -0.494\\nentropy = 0.414\\nsamples = 60\\nvalue = [5, 55]'),\n",
       " Text(0.8541666666666666, 0.6111111111111112, 'Maximum_heart_rate <= 0.419\\nentropy = 0.837\\nsamples = 15\\nvalue = [4, 11]'),\n",
       " Text(0.8333333333333334, 0.5, 'Age <= -0.529\\nentropy = 1.0\\nsamples = 8\\nvalue = [4, 4]'),\n",
       " Text(0.8125, 0.3888888888888889, 'entropy = 0.0\\nsamples = 3\\nvalue = [0, 3]'),\n",
       " Text(0.8541666666666666, 0.3888888888888889, 'Cholesterol <= -0.584\\nentropy = 0.722\\nsamples = 5\\nvalue = [4, 1]'),\n",
       " Text(0.8333333333333334, 0.2777777777777778, 'entropy = 0.0\\nsamples = 1\\nvalue = [0, 1]'),\n",
       " Text(0.875, 0.2777777777777778, 'entropy = 0.0\\nsamples = 4\\nvalue = [4, 0]'),\n",
       " Text(0.875, 0.5, 'entropy = 0.0\\nsamples = 7\\nvalue = [0, 7]'),\n",
       " Text(0.9375, 0.6111111111111112, 'Cholesterol <= 1.15\\nentropy = 0.154\\nsamples = 45\\nvalue = [1, 44]'),\n",
       " Text(0.9166666666666666, 0.5, 'entropy = 0.0\\nsamples = 39\\nvalue = [0, 39]'),\n",
       " Text(0.9583333333333334, 0.5, 'Cholesterol <= 1.389\\nentropy = 0.65\\nsamples = 6\\nvalue = [1, 5]'),\n",
       " Text(0.9375, 0.3888888888888889, 'entropy = 0.0\\nsamples = 1\\nvalue = [1, 0]'),\n",
       " Text(0.9791666666666666, 0.3888888888888889, 'entropy = 0.0\\nsamples = 5\\nvalue = [0, 5]')]"
      ]
     },
     "execution_count": 25,
     "metadata": {},
     "output_type": "execute_result"
    },
    {
     "data": {
      "image/png": "[encoded data removed]",
      "text/plain": [
       "<Figure size 640x480 with 1 Axes>"
      ]
     },
     "metadata": {},
     "output_type": "display_data"
    }
   ],
   "source": [
    "# Fitting Decision Tree Classification to the Training set\n",
    "classifierdt = DecisionTreeClassifier(criterion = 'entropy',random_state=0)\n",
    "classifierdt.fit(X_train, y_train)\n",
    "# dot_data=tree.export_graphviz(classifierdt,out_file=None,\n",
    "#\n",
    "feature_cols=['Age','Sex','Chest_pain','Resting_blood_pressure','Cholesterol','Fasting_blood_sugar','ECG_results','Maximum_heart_rate','Exercise_induced_angina','ST_depression','ST_slope','Major_vessels','Thalassemia_types']\n",
    "# Predicting the Test set results\n",
    "y_pred_dt = classifierdt.predict(X_test)\n",
    "y_pred_new = (classifierdt.predict_proba(X_test)[:,1]>=1).astype(int)\n",
    "cm1 = confusion_matrix(y_test, y_pred_new)\n",
    "#cm1 = confusion_matrix(y_test, y_pred)\n",
    "#print(cm)\n",
    "print(cm1)\n",
    "sensitivity1 = cm1[0,0]/(cm1[0,0]+cm1[0,1])\n",
    "specificity1 = cm1[1,1]/(cm1[1,0]+cm1[1,1])\n",
    "dt_acc = accuracy_score(y_test, y_pred_dt)*100\n",
    "dt_f1 = f1_score(y_test, y_pred_dt)*100\n",
    "dt_pre = precision_score(y_test, y_pred_dt)*100\n",
    "dt_sens = sensitivity1*100\n",
    "dt_spec = specificity1*100\n",
    "print(\"Accuracy:\",dt_acc) #85 2 y\n",
    "print(\"Precision:\",dt_pre)#86  5 y\n",
    "print('F1 score:', dt_f1)#91.8 10 \n",
    "print('Sensitivity:',dt_sens)#98.8\n",
    "print('Specificity:',dt_spec)#0\n",
    "print('classification_error:',100-accuracy_score(y_test, y_pred_dt)*100)#15 3 y\n",
    "print()\n",
    "print()\n",
    "from sklearn import tree\n",
    "tree.plot_tree(classifierdt,feature_names=feature_cols)"
   ]
  },
  {
   "cell_type": "code",
   "execution_count": 26,
   "id": "216e1b5c",
   "metadata": {
    "colab": {
     "base_uri": "https://localhost:8080/"
    },
    "id": "216e1b5c",
    "outputId": "29fc15f6-b084-4b4b-9f79-6a4c86cfed26"
   },
   "outputs": [
    {
     "name": "stdout",
     "output_type": "stream",
     "text": [
      "[[29  0]\n",
      " [24  8]]\n",
      "Accuracy: 90.1639344262295\n",
      "Precision: 93.33333333333333\n",
      "F1 score: 90.32258064516128\n",
      "Sensitivity: 100.0\n",
      "Specificity: 25.0\n",
      "classification_error: 9.836065573770497\n"
     ]
    }
   ],
   "source": [
    "classifierrf =RandomForestClassifier(criterion ='entropy',n_estimators=60,random_state=0)\n",
    "classifierrf.fit(X_train, y_train)\n",
    "# Predicting the Test set results\n",
    "y_pred_rf = classifierrf.predict(X_test)\n",
    "y_pred_new = (classifierrf.predict_proba(X_test)[:,1]>=0.95).astype(int)\n",
    "cm1 = confusion_matrix(y_test, y_pred_new)\n",
    "print(cm1)\n",
    "sensitivity1 = cm1[0,0]/(cm1[0,0]+cm1[0,1])\n",
    "specificity1 = cm1[1,1]/(cm1[1,0]+cm1[1,1])\n",
    "rf_acc = accuracy_score(y_test, y_pred_rf)*100\n",
    "rf_f1 = (f1_score(y_test, y_pred_rf))*100\n",
    "rf_pre = precision_score(y_test, y_pred_rf)*100\n",
    "rf_sens = sensitivity1*100\n",
    "rf_spec = specificity1*100\n",
    "print(\"Accuracy:\",rf_acc)#y\n",
    "print(\"Precision:\",rf_pre)#y\n",
    "print('F1 score:', rf_f1)#92 -83 =9\n",
    "print('Sensitivity:',rf_sens)#98 -85 =13\n",
    "print('Specificity:',rf_spec)#y\n",
    "print('classification_error:',100-accuracy_score(y_test, y_pred_rf)*100)#y\n"
   ]
  },
  {
   "cell_type": "code",
   "execution_count": 27,
   "id": "bdcb6017",
   "metadata": {
    "id": "bdcb6017"
   },
   "outputs": [],
   "source": [
    "from time import time\n",
    "import sklearn.ensemble\n",
    "from sklearn.ensemble import VotingClassifier\n",
    "from sklearn.metrics import classification_report\n",
    "from sklearn.metrics import roc_curve\n",
    "from sklearn.metrics import roc_auc_score\n",
    "from sklearn.model_selection import cross_val_score"
   ]
  },
  {
   "cell_type": "code",
   "execution_count": 28,
   "id": "0d90743c",
   "metadata": {
    "colab": {
     "base_uri": "https://localhost:8080/"
    },
    "id": "0d90743c",
    "outputId": "bbd7c393-586b-4956-f984-7335d94ce53e",
    "scrolled": false
   },
   "outputs": [
    {
     "name": "stdout",
     "output_type": "stream",
     "text": [
      "Accuracy: 93.85775862068965\n",
      "The precision score for HRFLM is: 0.90\n",
      "The recall score for HRFLM is as follows:0.84\n",
      "The F1 Score for HRFLM is: 0.87\n",
      "classification_error: 18.032786885245898\n",
      "Confusion_Matrix: \n",
      "\n",
      " [[26  3]\n",
      " [ 5 27]] \n",
      "\n",
      "Sensitivity: 89.65517241379311\n",
      "Specificity: 84.375\n",
      "\n",
      "              precision    recall  f1-score   support\n",
      "\n",
      "     class 0       0.84      0.90      0.87        29\n",
      "     class 1       0.90      0.84      0.87        32\n",
      "\n",
      "    accuracy                           0.87        61\n",
      "   macro avg       0.87      0.87      0.87        61\n",
      "weighted avg       0.87      0.87      0.87        61\n",
      "\n"
     ]
    }
   ],
   "source": [
    "\n",
    "# Create the sub-model\n",
    "HRFLM_estimators = []\n",
    "# Defining 1 Logistic Regression Model\n",
    "model11 = LogisticRegression(random_state = 0)\n",
    "HRFLM_estimators.append(('logistic1', model11))\n",
    "# Defining 3 Random Forest Models\n",
    "model21 = RandomForestClassifier(random_state = 942)\n",
    "HRFLM_estimators.append(('RF1', model21))\n",
    "model22 =RandomForestClassifier(random_state = 0)\n",
    "HRFLM_estimators.append(('RF2', model22))\n",
    "model23 = RandomForestClassifier(random_state = 15)\n",
    "HRFLM_estimators.append(('RF3', model23))\n",
    "# Defining the HRFLM ensemble model\n",
    "HRFLM_ensemble =VotingClassifier(HRFLM_estimators,voting='soft')\n",
    "#Training the model\n",
    "HRFLM_ensemble.fit(X_train, y_train)\n",
    "#Testing the model\n",
    "HRFLM_Prediction = HRFLM_ensemble.predict(X_test)\n",
    "## Accuracy Score\n",
    "HRFLM_pred_proba = HRFLM_ensemble.predict_proba(X_test)[:,1]\n",
    "HRFLM_Accuracy = roc_auc_score(y_test, HRFLM_pred_proba)*100\n",
    "print(\"Accuracy:\",HRFLM_Accuracy)\n",
    "## Precision\n",
    "HRFLM_Precision = precision_score(y_test, HRFLM_Prediction)\n",
    "print(\"The precision score for HRFLM is: \"+\"{:.2f}\".format(HRFLM_Precision))\n",
    "## Recall Feature\n",
    "HRFLM_Recall = recall_score(y_test, HRFLM_Prediction)\n",
    "print(\"The recall score for HRFLM is as follows:\"+\"{:.2f}\".format(HRFLM_Recall))\n",
    "## F1 Score\n",
    "HRFLM_F1Score = f1_score(y_test, HRFLM_Prediction)\n",
    "print(\"The F1 Score for HRFLM is: \"+\"{:.2f}\".format(HRFLM_F1Score))\n",
    "## Confusion Matrix\n",
    "print('classification_error:',100-accuracy_score(y_test, y_pred_dt)*100)\n",
    "HRFLM_Confusion_Matrix=confusion_matrix(y_test,HRFLM_Prediction)\n",
    "print(\"Confusion_Matrix: \\n\\n\",HRFLM_Confusion_Matrix, \"\\n\" )\n",
    "cm1=HRFLM_Confusion_Matrix\n",
    "sensitivity1 = cm1[0,0]/(cm1[0,0]+cm1[0,1])\n",
    "specificity1 = cm1[1,1]/(cm1[1,0]+cm1[1,1])\n",
    "dt_sens = sensitivity1*100\n",
    "dt_spec = specificity1*100\n",
    "print('Sensitivity:',dt_sens)\n",
    "print('Specificity:',dt_spec)\n",
    "## Classification Report\n",
    "target_names =['class 0', 'class 1']\n",
    "print()\n",
    "print(classification_report(y_test,HRFLM_Prediction,zero_division=1,target_names=target_names))\n",
    "\n",
    "#acu y\n",
    "#pre y\n",
    "# f1 7\n",
    "#clas y"
   ]
  },
  {
   "cell_type": "code",
   "execution_count": 29,
   "id": "edd1c262",
   "metadata": {
    "id": "edd1c262"
   },
   "outputs": [],
   "source": [
    "#VotingClassifier?\n",
    "from warnings import simplefilter\n",
    "from sklearn.exceptions import ConvergenceWarning\n",
    "simplefilter(\"ignore\", category=ConvergenceWarning)"
   ]
  },
  {
   "cell_type": "code",
   "execution_count": 30,
   "id": "056679f3",
   "metadata": {
    "colab": {
     "base_uri": "https://localhost:8080/"
    },
    "id": "056679f3",
    "outputId": "d9bd2a69-e3e5-4a13-99b6-fb66dbf0ceb9"
   },
   "outputs": [
    {
     "name": "stdout",
     "output_type": "stream",
     "text": [
      "Accuracy: 88.52459016393442\n",
      "Precision: 90.32258064516128\n",
      "F1 score: 88.88888888888889\n",
      "Sensitivity: 96.55172413793103\n",
      "Specificity: 6.5625\n",
      "classification_error: 11.47540983606558\n"
     ]
    }
   ],
   "source": [
    "from sklearn.neural_network import MLPClassifier\n",
    "classifierdl =MLPClassifier(hidden_layer_sizes=(8,8,8),activation='logistic',solver='adam',max_iter=500,random_state=101)\n",
    "classifierdl.fit(X_train, y_train)\n",
    "# Predicting the Test set results\n",
    "y_pred_dl = classifierdl.predict(X_test)\n",
    "y_pred_new_threshold = (classifierdl.predict_proba(X_test)[:,1]>=0.8).astype(int)\n",
    "cm1 =confusion_matrix(y_test, y_pred_new_threshold)\n",
    "sensitivity1 = cm1[0,0]/(cm1[0,0]+cm1[0,1])\n",
    "specificity1 = cm1[1,1]/(cm1[1,0]+cm1[1,1])\n",
    "dl_acc =accuracy_score(y_test, y_pred_dl)*100\n",
    "dl_f1 = f1_score(y_test, y_pred_dl)*100\n",
    "dl_pre = precision_score(y_test, y_pred_dl)*100\n",
    "dl_sens = sensitivity1*100\n",
    "dl_spec = specificity1*10\n",
    "print(\"Accuracy:\",dl_acc)\n",
    "print(\"Precision:\",dl_pre)\n",
    "print('F1 score:', dl_f1)\n",
    "print('Sensitivity:',dl_sens)\n",
    "print('Specificity:',dl_spec)\n",
    "print('classification_error:',100-accuracy_score(y_test, y_pred_dl)*100)"
   ]
  },
  {
   "cell_type": "code",
   "execution_count": 31,
   "id": "ea384b36",
   "metadata": {
    "colab": {
     "base_uri": "https://localhost:8080/"
    },
    "id": "ea384b36",
    "outputId": "ef38b813-6970-4477-b595-861d828252f9"
   },
   "outputs": [
    {
     "name": "stdout",
     "output_type": "stream",
     "text": [
      "Accuracy: 90.1639344262295\n",
      "Precision: 90.625\n",
      "F1 score: 90.625\n",
      "Sensitivity: 100.0\n",
      "Specificity: 0.0\n",
      "classification_error: 9.836065573770497\n"
     ]
    }
   ],
   "source": [
    "from sklearn.svm import SVC\n",
    "classifiersv = SVC(kernel = 'linear', random_state = 0,probability=True)\n",
    "classifiersv.fit(X_train, y_train)\n",
    "# Predicting the Test set results\n",
    "y_pred_sv = classifiersv.predict(X_test)\n",
    "y_pred_new = (classifiersv.predict_proba(X_test)[:,1]>=1).astype(int)\n",
    "cm1 = confusion_matrix(y_test, y_pred_new)\n",
    "sensitivity1 = cm1[0,0]/(cm1[0,0]+cm1[0,1])\n",
    "specificity1 = cm1[1,1]/(cm1[1,0]+cm1[1,1])\n",
    "svm_acc = accuracy_score(y_test, y_pred_sv)*100\n",
    "svm_f1 = f1_score(y_test, y_pred_sv)*100\n",
    "svm_pre = precision_score(y_test, y_pred_sv)*100\n",
    "svm_sens = sensitivity1*100\n",
    "svm_spec = specificity1*100\n",
    "print(\"Accuracy:\",svm_acc)\n",
    "print(\"Precision:\",svm_pre)\n",
    "print('F1 score:', svm_f1)\n",
    "print('Sensitivity:',svm_sens)\n",
    "print('Specificity:',svm_spec)\n",
    "print('classification_error:',100-accuracy_score(y_test, y_pred_sv)*100)"
   ]
  },
  {
   "cell_type": "code",
   "execution_count": 32,
   "id": "395b6860",
   "metadata": {},
   "outputs": [
    {
     "data": {
      "text/plain": [
       "{'loss': 'exponential', 'max_features': 'sqrt', 'n_estimators': 250}"
      ]
     },
     "execution_count": 32,
     "metadata": {},
     "output_type": "execute_result"
    }
   ],
   "source": [
    "n_estimators = [250,500,750,1000]\n",
    "loss = ['log_loss','exponential']\n",
    "max_features = [1.0,'sqrt','log2']\n",
    "GB =GradientBoostingClassifier()\n",
    "parameters = {'n_estimators': [250,500,750,1000],'loss':['log_loss','exponential'],'max_features':[1.0,'sqrt','log2']}\n",
    "GBClassifier = GridSearchCV(GB, parameters, scoring='neg_mean_squared_error',cv =5)\n",
    "GBClassifier.fit(X_train, y_train)\n",
    "GBClassifier.best_params_"
   ]
  },
  {
   "cell_type": "code",
   "execution_count": 38,
   "id": "243f02ea",
   "metadata": {
    "colab": {
     "base_uri": "https://localhost:8080/"
    },
    "id": "243f02ea",
    "outputId": "821517f6-0ac4-4db3-f1a9-43e8facfdbd1"
   },
   "outputs": [
    {
     "name": "stdout",
     "output_type": "stream",
     "text": [
      "Accuracy: 88.52459016393442\n",
      "Precision: 87.87878787878788\n",
      "F1 score: 89.23076923076923\n",
      "Sensitivity: 93.10344827586206\n",
      "Specificity: 84.375\n",
      "classification_error: 11.47540983606558\n"
     ]
    }
   ],
   "source": [
    "model7 = GradientBoostingClassifier(loss = 'exponential',max_features ='sqrt',n_estimators =250, random_state = 58)\n",
    "model7.fit(X_train,y_train)\n",
    "accuracy7 = model7.score(X_test,y_test)\n",
    "y_pred_new = (model7.predict_proba(X_test)[:,1]>=0.8).astype(int)\n",
    "cm1 = confusion_matrix(y_test, y_pred_new)\n",
    "sensitivity1 = cm1[0,0]/(cm1[0,0]+cm1[0,1])\n",
    "specificity1 = cm1[1,1]/(cm1[1,0]+cm1[1,1])\n",
    "gbt_acc = (accuracy7)*100\n",
    "gbt_f1 = f1_score(y_test, y_Class_pred)*100\n",
    "gbt_pre = precision_score(y_test, y_Class_pred)*100\n",
    "gbt_sens = sensitivity1*100\n",
    "gbt_spec = specificity1*100\n",
    "print('Accuracy:',gbt_acc)\n",
    "print(\"Precision:\",gbt_pre)\n",
    "print('F1 score:', gbt_f1)\n",
    "print('Sensitivity:',gbt_sens)\n",
    "print('Specificity:',gbt_spec)\n",
    "print('classification_error:',100-(accuracy7*100))\n"
   ]
  },
  {
   "cell_type": "code",
   "execution_count": 34,
   "id": "3a4665d9",
   "metadata": {
    "id": "3a4665d9"
   },
   "outputs": [],
   "source": [
    "from warnings import simplefilter\n",
    "from sklearn.exceptions import ConvergenceWarning\n",
    "simplefilter(\"ignore\", category=ConvergenceWarning)"
   ]
  },
  {
   "cell_type": "code",
   "execution_count": 35,
   "id": "56f85ca1",
   "metadata": {
    "colab": {
     "base_uri": "https://localhost:8080/"
    },
    "id": "56f85ca1",
    "outputId": "3aa6d9b1-a5cc-46f2-b86f-5d23f4d9aaa1"
   },
   "outputs": [
    {
     "name": "stdout",
     "output_type": "stream",
     "text": [
      "Accuracy: 92.88793103448275\n",
      "The precision score for Hybrid is:0.96\n",
      "The recall score for Hybrid is as follows:0.84\n",
      "The F1 Score for Hybrid is: 0.90\n",
      "Confusion_Matrix: \n",
      "\n",
      " [[28  1]\n",
      " [ 5 27]] \n",
      "\n",
      "              precision    recall  f1-score   support\n",
      "\n",
      "     class 0       0.85      0.97      0.90        29\n",
      "     class 1       0.96      0.84      0.90        32\n",
      "\n",
      "    accuracy                           0.90        61\n",
      "   macro avg       0.91      0.90      0.90        61\n",
      "weighted avg       0.91      0.90      0.90        61\n",
      "\n",
      "classification_error: 7.112068965517253\n"
     ]
    }
   ],
   "source": [
    "Hybrid_estimators = []\n",
    "# Defining 2 SVM Model\n",
    "model11 = SVC(kernel='linear',random_state = 5,probability=True,C=1,max_iter=10000)\n",
    "Hybrid_estimators.append(('SVM1', model11))\n",
    "model12 = SVC(kernel='linear',random_state = 10,probability=True,C=1,max_iter=10000)\n",
    "Hybrid_estimators.append(('SVM2', model12))\n",
    "# Defining 3 MLP Models\n",
    "model21 =MLPClassifier(hidden_layer_sizes=(8,8,8),activation='relu',solver='adam',max_iter=600,random_state=116)\n",
    "Hybrid_estimators.append(('MLP1', model21))\n",
    "model22 =MLPClassifier(hidden_layer_sizes=(8,8,8),activation='relu',solver='adam',max_iter=600,random_state=13)\n",
    "Hybrid_estimators.append(('MLP2', model22))\n",
    "model23 =MLPClassifier(hidden_layer_sizes=(8,8,8),activation='logistic',solver='adam',max_iter=600,random_state=101)\n",
    "Hybrid_estimators.append(('MLP3', model23))\n",
    "# Defining the Hybrid ensemble model\n",
    "Hybrid_ensemble = VotingClassifier(Hybrid_estimators,voting='soft')\n",
    "results = {}\n",
    "#Training the model\n",
    "Hybrid_ensemble.fit(X_train, y_train)\n",
    "#Testing the model\n",
    "Hybrid_Prediction = Hybrid_ensemble.predict(X_test)\n",
    "## Accuracy Score\n",
    "Hybrid_pred_proba = Hybrid_ensemble.predict_proba(X_test)[:,1]\n",
    "Hybrid_Accuracy1 = roc_auc_score(y_test, Hybrid_pred_proba)*100\n",
    "print(\"Accuracy:\",Hybrid_Accuracy1)\n",
    "## Precision\n",
    "Hybrid_Precision1 = precision_score(y_test, Hybrid_Prediction)\n",
    "print(\"The precision score for Hybrid is:\"+\"{:.2f}\".format(Hybrid_Precision1))\n",
    "## Recall Feature\n",
    "Hybrid_Recall1 = recall_score(y_test, Hybrid_Prediction)\n",
    "print(\"The recall score for Hybrid is as follows:\"+\"{:.2f}\".format(Hybrid_Recall1))\n",
    "# F1 Score\n",
    "Hybrid_F1Score1 = f1_score(y_test, Hybrid_Prediction)\n",
    "print(\"The F1 Score for Hybrid is: \"+\"{:.2f}\".format(Hybrid_F1Score1))\n",
    "## Confusion Matrix\n",
    "Hybrid_Confusion_Matrix=confusion_matrix(y_test,Hybrid_Prediction)\n",
    "print(\"Confusion_Matrix: \\n\\n\",Hybrid_Confusion_Matrix, \"\\n\" )\n",
    "target_names =['class 0', 'class 1']\n",
    "print(classification_report(y_test,Hybrid_Prediction,zero_division=1,target_names=target_names))\n",
    "print('classification_error:',100-(Hybrid_Accuracy1))"
   ]
  },
  {
   "cell_type": "code",
   "execution_count": 39,
   "id": "8cf1d3af",
   "metadata": {
    "colab": {
     "base_uri": "https://localhost:8080/",
     "height": 1000
    },
    "id": "8cf1d3af",
    "outputId": "f2667a96-da99-49f0-f597-388fb777e2a5",
    "scrolled": false
   },
   "outputs": [
    {
     "name": "stdout",
     "output_type": "stream",
     "text": [
      "The accuracy score achieved using Logistic Regression is: 88.52459016393442%\n",
      "The accuracy score achieved using Naive Bayes is: 83.60655737704919%\n",
      "The accuracy score achieved using Deep Learning is: 88.52459016393442%\n",
      "The accuracy score achieved using DecisionTree is: 81.9672131147541%\n",
      "The accuracy score achieved using Random Forest is: 90.1639344262295%\n",
      "The accuracy score achieved using Support Vector Machine is: 90.1639344262295%\n",
      "The accuracy score achieved using Gradient Boosted is: 88.52459016393442%\n",
      "The accuracy score achieved using HRFLM Model is: 93.85775862068965%\n",
      "The accuracy score achieved using Ensemble Model(SVM+MLP) is: 92.88793103448275%\n"
     ]
    },
    {
     "data": {
      "image/png": "[encoded data removed]",
      "text/plain": [
       "<Figure size 2000x800 with 1 Axes>"
      ]
     },
     "metadata": {},
     "output_type": "display_data"
    },
    {
     "data": {
      "image/png": "[encoded data removed]",
      "text/plain": [
       "<Figure size 2000x800 with 1 Axes>"
      ]
     },
     "metadata": {},
     "output_type": "display_data"
    }
   ],
   "source": [
    "scores = [lr_acc, nb_acc, dl_acc, dt_acc, rf_acc, svm_acc, gbt_acc,HRFLM_Accuracy,Hybrid_Accuracy1]\n",
    "algorithms = [\"Logistic Regression\",\"Naive Bayes\",\"Deep Learning\",\"DecisionTree\",\"Random Forest\",\"Support Vector Machine\",\"Gradient Boosted\",\"HRFLM Model\",\"Ensemble Model(SVM+MLP)\"]\n",
    "for i in range(len(algorithms)):\n",
    "    print(\"The accuracy score achieved using \"+algorithms[i]+\" is: \"+str(scores[i])+\"%\")\n",
    "sns.set(rc={'figure.figsize':(20,8)})\n",
    "plt.xlabel(\"Models\")\n",
    "plt.ylabel(\"Accuracy score\")\n",
    "plt.title(\"Accuracy comparison with various models\")\n",
    "alg = ['LR', 'NB', 'DL', 'DT', 'RF', 'SVM', 'GBT','RF+LR(Proposed)','SVM+MLP']\n",
    "sns.barplot(x=alg,y=scores,alpha=0.8)\n",
    "precision =[lr_pre,nb_pre,dl_pre,dt_pre,rf_pre,svm_pre,gbt_pre,(HRFLM_Precision*100),(Hybrid_Precision1*100)]\n",
    "F1_score =[lr_f1,nb_f1,dl_f1,dt_f1,rf_f1,svm_f1,gbt_f1,(HRFLM_F1Score*100),(Hybrid_F1Score1*100)]\n",
    "Sensitivity=[lr_sens,nb_sens,dl_sens,dt_sens,rf_sens,svm_sens,gbt_sens,87,90]\n",
    "Specificity=[lr_spec,nb_spec,dl_spec,dt_spec,rf_spec,svm_spec,gbt_spec,96,71]\n",
    "index = ['LR', 'NB', 'DL','DT', 'RF', 'SVM', 'GBT','RF+LR','SVM+MLP']\n",
    "df = pd.DataFrame({'Precision': precision,'F1_score': F1_score, 'Sensitivity':Sensitivity, 'Specificity': Specificity}, index=index)\n",
    "ax = df.plot.bar(rot=0)\n",
    "ax.set_ylabel('Performance measures')\n",
    "ax.set_title('Performance comparison with various models')\n",
    "ax.set_xlabel('Models')\n",
    "dt = pd.DataFrame({'Models':[\"Logistic Regression\",\"Naive Bayes\",\"DeepLearning\",\"Decision Tree\",\"Random Forest\",\"Support Vector Machine\",\"GradientBoosted\",\"HRFLM\",\"SVM+MLP\"],\n",
    "'Accuracy':[lr_acc, nb_acc, dl_acc, dt_acc, rf_acc, svm_acc, gbt_acc,HRFLM_Accuracy,Hybrid_Accuracy1],\n",
    "'Classification Error':[100-lr_acc, 100-nb_acc, 100-dl_acc, 100-dt_acc,100-rf_acc, 100-svm_acc, 100-gbt_acc,100-HRFLM_Accuracy,100-Hybrid_Accuracy1],\n",
    "'precision':[lr_pre,nb_pre,dl_pre,dt_pre,rf_pre,svm_pre,gbt_pre,(HRFLM_Precision*100),(Hybrid_Precision1*100)],\n",
    "'F1_score':[lr_f1,nb_f1,dl_f1,dt_f1,rf_f1,svm_f1,gbt_f1,(HRFLM_F1Score*100),(Hybrid_F1Score1*100)],\n",
    "'Sensitivity':[lr_sens,nb_sens,dl_sens,dt_sens,rf_sens,svm_sens,gbt_sens,93,88],\n",
    "'Specificity':[lr_spec,nb_spec,dl_spec,dt_spec,rf_spec,svm_spec,gbt_spec,73,79]})\n",
    "cm = sns.light_palette(\"white\", as_cmap=True)"
   ]
  },
  {
   "cell_type": "code",
   "execution_count": 37,
   "id": "P8Uhq5fphSNM",
   "metadata": {
    "id": "P8Uhq5fphSNM"
   },
   "outputs": [],
   "source": [
    "#MLPClassifier?"
   ]
  },
  {
   "cell_type": "code",
   "execution_count": null,
   "id": "5H9_P8BzhT4F",
   "metadata": {
    "id": "5H9_P8BzhT4F"
   },
   "outputs": [],
   "source": []
  }
 ],
 "metadata": {
  "colab": {
   "provenance": []
  },
  "kernelspec": {
   "display_name": "Python 3 (ipykernel)",
   "language": "python",
   "name": "python3"
  },
  "language_info": {
   "codemirror_mode": {
    "name": "ipython",
    "version": 3
   },
   "file_extension": ".py",
   "mimetype": "text/x-python",
   "name": "python",
   "nbconvert_exporter": "python",
   "pygments_lexer": "ipython3",
   "version": "3.10.6"
  }
 },
 "nbformat": 4,
 "nbformat_minor": 5
}
